{
  "nbformat": 4,
  "nbformat_minor": 0,
  "metadata": {
    "colab": {
      "name": "ProjectAI-DCNN.ipynb",
      "provenance": [],
      "collapsed_sections": []
    },
    "kernelspec": {
      "name": "python3",
      "display_name": "Python 3"
    },
    "language_info": {
      "name": "python"
    },
    "accelerator": "GPU",
    "widgets": {
      "application/vnd.jupyter.widget-state+json": {
        "b9732983a44f45d881697796d73b0a51": {
          "model_module": "@jupyter-widgets/controls",
          "model_name": "HBoxModel",
          "state": {
            "_view_name": "HBoxView",
            "_dom_classes": [],
            "_model_name": "HBoxModel",
            "_view_module": "@jupyter-widgets/controls",
            "_model_module_version": "1.5.0",
            "_view_count": null,
            "_view_module_version": "1.5.0",
            "box_style": "",
            "layout": "IPY_MODEL_f99c7cf17c2542fbbc136c0334b55920",
            "_model_module": "@jupyter-widgets/controls",
            "children": [
              "IPY_MODEL_6ad5296e0a0d4f18b02f772e17e5f658",
              "IPY_MODEL_6e150de184004c3796f074f1ab8b61cb"
            ]
          }
        },
        "f99c7cf17c2542fbbc136c0334b55920": {
          "model_module": "@jupyter-widgets/base",
          "model_name": "LayoutModel",
          "state": {
            "_view_name": "LayoutView",
            "grid_template_rows": null,
            "right": null,
            "justify_content": null,
            "_view_module": "@jupyter-widgets/base",
            "overflow": null,
            "_model_module_version": "1.2.0",
            "_view_count": null,
            "flex_flow": null,
            "width": null,
            "min_width": null,
            "border": null,
            "align_items": null,
            "bottom": null,
            "_model_module": "@jupyter-widgets/base",
            "top": null,
            "grid_column": null,
            "overflow_y": null,
            "overflow_x": null,
            "grid_auto_flow": null,
            "grid_area": null,
            "grid_template_columns": null,
            "flex": null,
            "_model_name": "LayoutModel",
            "justify_items": null,
            "grid_row": null,
            "max_height": null,
            "align_content": null,
            "visibility": null,
            "align_self": null,
            "height": null,
            "min_height": null,
            "padding": null,
            "grid_auto_rows": null,
            "grid_gap": null,
            "max_width": null,
            "order": null,
            "_view_module_version": "1.2.0",
            "grid_template_areas": null,
            "object_position": null,
            "object_fit": null,
            "grid_auto_columns": null,
            "margin": null,
            "display": null,
            "left": null
          }
        },
        "6ad5296e0a0d4f18b02f772e17e5f658": {
          "model_module": "@jupyter-widgets/controls",
          "model_name": "FloatProgressModel",
          "state": {
            "_view_name": "ProgressView",
            "style": "IPY_MODEL_31c7b6ad1d96443583134cb6c331ff47",
            "_dom_classes": [],
            "description": "",
            "_model_name": "FloatProgressModel",
            "bar_style": "success",
            "max": 170498071,
            "_view_module": "@jupyter-widgets/controls",
            "_model_module_version": "1.5.0",
            "value": 170498071,
            "_view_count": null,
            "_view_module_version": "1.5.0",
            "orientation": "horizontal",
            "min": 0,
            "description_tooltip": null,
            "_model_module": "@jupyter-widgets/controls",
            "layout": "IPY_MODEL_72ef171d9785488486861ca5c1886410"
          }
        },
        "6e150de184004c3796f074f1ab8b61cb": {
          "model_module": "@jupyter-widgets/controls",
          "model_name": "HTMLModel",
          "state": {
            "_view_name": "HTMLView",
            "style": "IPY_MODEL_2074138e75ea42229a74420197d678af",
            "_dom_classes": [],
            "description": "",
            "_model_name": "HTMLModel",
            "placeholder": "​",
            "_view_module": "@jupyter-widgets/controls",
            "_model_module_version": "1.5.0",
            "value": " 170499072/? [00:16&lt;00:00, 10128994.35it/s]",
            "_view_count": null,
            "_view_module_version": "1.5.0",
            "description_tooltip": null,
            "_model_module": "@jupyter-widgets/controls",
            "layout": "IPY_MODEL_2a2058f32a2b47d3b5e91dc8ceafeb7b"
          }
        },
        "31c7b6ad1d96443583134cb6c331ff47": {
          "model_module": "@jupyter-widgets/controls",
          "model_name": "ProgressStyleModel",
          "state": {
            "_view_name": "StyleView",
            "_model_name": "ProgressStyleModel",
            "description_width": "initial",
            "_view_module": "@jupyter-widgets/base",
            "_model_module_version": "1.5.0",
            "_view_count": null,
            "_view_module_version": "1.2.0",
            "bar_color": null,
            "_model_module": "@jupyter-widgets/controls"
          }
        },
        "72ef171d9785488486861ca5c1886410": {
          "model_module": "@jupyter-widgets/base",
          "model_name": "LayoutModel",
          "state": {
            "_view_name": "LayoutView",
            "grid_template_rows": null,
            "right": null,
            "justify_content": null,
            "_view_module": "@jupyter-widgets/base",
            "overflow": null,
            "_model_module_version": "1.2.0",
            "_view_count": null,
            "flex_flow": null,
            "width": null,
            "min_width": null,
            "border": null,
            "align_items": null,
            "bottom": null,
            "_model_module": "@jupyter-widgets/base",
            "top": null,
            "grid_column": null,
            "overflow_y": null,
            "overflow_x": null,
            "grid_auto_flow": null,
            "grid_area": null,
            "grid_template_columns": null,
            "flex": null,
            "_model_name": "LayoutModel",
            "justify_items": null,
            "grid_row": null,
            "max_height": null,
            "align_content": null,
            "visibility": null,
            "align_self": null,
            "height": null,
            "min_height": null,
            "padding": null,
            "grid_auto_rows": null,
            "grid_gap": null,
            "max_width": null,
            "order": null,
            "_view_module_version": "1.2.0",
            "grid_template_areas": null,
            "object_position": null,
            "object_fit": null,
            "grid_auto_columns": null,
            "margin": null,
            "display": null,
            "left": null
          }
        },
        "2074138e75ea42229a74420197d678af": {
          "model_module": "@jupyter-widgets/controls",
          "model_name": "DescriptionStyleModel",
          "state": {
            "_view_name": "StyleView",
            "_model_name": "DescriptionStyleModel",
            "description_width": "",
            "_view_module": "@jupyter-widgets/base",
            "_model_module_version": "1.5.0",
            "_view_count": null,
            "_view_module_version": "1.2.0",
            "_model_module": "@jupyter-widgets/controls"
          }
        },
        "2a2058f32a2b47d3b5e91dc8ceafeb7b": {
          "model_module": "@jupyter-widgets/base",
          "model_name": "LayoutModel",
          "state": {
            "_view_name": "LayoutView",
            "grid_template_rows": null,
            "right": null,
            "justify_content": null,
            "_view_module": "@jupyter-widgets/base",
            "overflow": null,
            "_model_module_version": "1.2.0",
            "_view_count": null,
            "flex_flow": null,
            "width": null,
            "min_width": null,
            "border": null,
            "align_items": null,
            "bottom": null,
            "_model_module": "@jupyter-widgets/base",
            "top": null,
            "grid_column": null,
            "overflow_y": null,
            "overflow_x": null,
            "grid_auto_flow": null,
            "grid_area": null,
            "grid_template_columns": null,
            "flex": null,
            "_model_name": "LayoutModel",
            "justify_items": null,
            "grid_row": null,
            "max_height": null,
            "align_content": null,
            "visibility": null,
            "align_self": null,
            "height": null,
            "min_height": null,
            "padding": null,
            "grid_auto_rows": null,
            "grid_gap": null,
            "max_width": null,
            "order": null,
            "_view_module_version": "1.2.0",
            "grid_template_areas": null,
            "object_position": null,
            "object_fit": null,
            "grid_auto_columns": null,
            "margin": null,
            "display": null,
            "left": null
          }
        }
      }
    }
  },
  "cells": [
    {
      "cell_type": "markdown",
      "metadata": {
        "id": "YUbyWS6Z0fco"
      },
      "source": [
        "# ProjectAI-DCNN"
      ]
    },
    {
      "cell_type": "markdown",
      "metadata": {
        "id": "2N85F8x30nOp"
      },
      "source": [
        "### Import libraries"
      ]
    },
    {
      "cell_type": "code",
      "metadata": {
        "id": "_LPRugJYurmr"
      },
      "source": [
        "import os\n",
        "\n",
        "import matplotlib.pyplot as plt \n",
        "import numpy as np \n",
        "\n",
        "import torch\n",
        "from torch import nn\n",
        "import torch.nn.functional as F\n",
        "from torch.utils.data import DataLoader\n",
        "\n",
        "import torchvision\n",
        "from torchvision.transforms import ToTensor\n",
        "from torchvision import datasets\n",
        "import torchvision.transforms.functional as TF"
      ],
      "execution_count": 1,
      "outputs": []
    },
    {
      "cell_type": "code",
      "metadata": {
        "colab": {
          "base_uri": "https://localhost:8080/"
        },
        "id": "D_yWbxVG0bZO",
        "outputId": "7221321f-1f21-450b-d483-93d42f5939d0"
      },
      "source": [
        "!git clone https://github.com/Sivaram46/ProjectAI-DCNN.git\n",
        "\n",
        "os.chdir('ProjectAI-DCNN')\n",
        "from DConv import DConv2d\n",
        "from models import DCNN_Simple, DCNN_Medium\n",
        "from train_test import train, test\n",
        "from load_dataset import *"
      ],
      "execution_count": 2,
      "outputs": [
        {
          "output_type": "stream",
          "text": [
            "Cloning into 'ProjectAI-DCNN'...\n",
            "remote: Enumerating objects: 24, done.\u001b[K\n",
            "remote: Counting objects: 100% (24/24), done.\u001b[K\n",
            "remote: Compressing objects: 100% (16/16), done.\u001b[K\n",
            "remote: Total 24 (delta 10), reused 22 (delta 8), pack-reused 0\u001b[K\n",
            "Unpacking objects: 100% (24/24), done.\n"
          ],
          "name": "stdout"
        }
      ]
    },
    {
      "cell_type": "code",
      "metadata": {
        "colab": {
          "base_uri": "https://localhost:8080/"
        },
        "id": "HCaRKtOQZjac",
        "outputId": "5265be95-1bd5-4ed5-b46b-8010f83abee3"
      },
      "source": [
        "from google.colab import drive \n",
        "drive.mount('/drive/')"
      ],
      "execution_count": 3,
      "outputs": [
        {
          "output_type": "stream",
          "text": [
            "Mounted at /drive/\n"
          ],
          "name": "stdout"
        }
      ]
    },
    {
      "cell_type": "markdown",
      "metadata": {
        "id": "OWkkARdX0v47"
      },
      "source": [
        "### Loaded dataset and analysed it"
      ]
    },
    {
      "cell_type": "code",
      "metadata": {
        "colab": {
          "base_uri": "https://localhost:8080/",
          "height": 183,
          "referenced_widgets": [
            "b9732983a44f45d881697796d73b0a51",
            "f99c7cf17c2542fbbc136c0334b55920",
            "6ad5296e0a0d4f18b02f772e17e5f658",
            "6e150de184004c3796f074f1ab8b61cb",
            "31c7b6ad1d96443583134cb6c331ff47",
            "72ef171d9785488486861ca5c1886410",
            "2074138e75ea42229a74420197d678af",
            "2a2058f32a2b47d3b5e91dc8ceafeb7b"
          ]
        },
        "id": "cyu1fp5MyyY6",
        "outputId": "fa092e02-185c-47ee-9baf-d1198e964218"
      },
      "source": [
        "train_dataloader, test_dataloader, classes = load_cifar10(64)\n",
        "\n",
        "for X, y in train_dataloader:\n",
        "    print('\\n\\n', X.shape)\n",
        "    print(y.shape)\n",
        "    break"
      ],
      "execution_count": 4,
      "outputs": [
        {
          "output_type": "stream",
          "text": [
            "Downloading https://www.cs.toronto.edu/~kriz/cifar-10-python.tar.gz to data/cifar-10-python.tar.gz\n"
          ],
          "name": "stdout"
        },
        {
          "output_type": "display_data",
          "data": {
            "application/vnd.jupyter.widget-view+json": {
              "model_id": "b9732983a44f45d881697796d73b0a51",
              "version_minor": 0,
              "version_major": 2
            },
            "text/plain": [
              "HBox(children=(FloatProgress(value=0.0, max=170498071.0), HTML(value='')))"
            ]
          },
          "metadata": {
            "tags": []
          }
        },
        {
          "output_type": "stream",
          "text": [
            "\n",
            "Extracting data/cifar-10-python.tar.gz to data\n",
            "Files already downloaded and verified\n",
            "\n",
            "\n",
            " torch.Size([64, 3, 32, 32])\n",
            "torch.Size([64])\n"
          ],
          "name": "stdout"
        }
      ]
    },
    {
      "cell_type": "code",
      "metadata": {
        "colab": {
          "base_uri": "https://localhost:8080/",
          "height": 699
        },
        "id": "CoO5jA7g373c",
        "outputId": "71dbde7f-ce0d-4c02-a624-b63e76c9395b"
      },
      "source": [
        "# Some random samples from dataset\n",
        "dataiter = iter(train_dataloader)\n",
        "images, labels = dataiter.next()\n",
        "\n",
        "rand = np.random.choice(np.arange(64), 9)\n",
        "fig, axs = plt.subplots(nrows=3, ncols=3, figsize=(12, 12))\n",
        "for i in range(9):\n",
        "    img = torchvision.utils.make_grid(images[rand[i], ...])\n",
        "    npimg = img.numpy()\n",
        "    axs[i//3, i%3].set_title(classes[labels[rand[i]]])\n",
        "    axs[i//3, i%3].imshow(np.transpose(npimg, (1, 2, 0)))\n",
        "    axs[i//3, i%3].axis('off')"
      ],
      "execution_count": 5,
      "outputs": [
        {
          "output_type": "display_data",
          "data": {
            "image/png": "[encoded data removed]",
            "text/plain": [
              "<Figure size 864x864 with 9 Axes>"
            ]
          },
          "metadata": {
            "tags": [],
            "needs_background": "light"
          }
        }
      ]
    },
    {
      "cell_type": "markdown",
      "metadata": {
        "id": "soKotwpY1cCZ"
      },
      "source": [
        "### DCNN Model"
      ]
    },
    {
      "cell_type": "code",
      "metadata": {
        "colab": {
          "base_uri": "https://localhost:8080/"
        },
        "id": "lQlZcRIzzRPm",
        "outputId": "6a4858db-b845-48e6-aca1-164c1def84b9"
      },
      "source": [
        "DEVICE = 'cuda' if torch.cuda.is_available() else 'cpu'\n",
        "print(\"Using {} device\".format(DEVICE))\n",
        "\n",
        "model = DCNN_Simple(in_channels=3, n_class=10).to(DEVICE)\n",
        "print(\"Learnable parameters: {:,}\".format(model.n_params))"
      ],
      "execution_count": 6,
      "outputs": [
        {
          "output_type": "stream",
          "text": [
            "Using cuda device\n",
            "Learnable parameters: 45,210\n"
          ],
          "name": "stdout"
        }
      ]
    },
    {
      "cell_type": "markdown",
      "metadata": {
        "id": "Gc2h0lAjM7bu"
      },
      "source": [
        "### Training Loop"
      ]
    },
    {
      "cell_type": "code",
      "metadata": {
        "colab": {
          "base_uri": "https://localhost:8080/"
        },
        "id": "PXxZhHXV0Hel",
        "outputId": "2a17b2de-74a4-410e-9446-2fa28dbec938"
      },
      "source": [
        "EPOCHS = 10\n",
        "\n",
        "loss_fn = nn.CrossEntropyLoss()\n",
        "optim = torch.optim.Adam(model.parameters(), lr=1e-3)\n",
        "\n",
        "train_loss, train_acc = [], []\n",
        "test_loss, test_acc = [], []\n",
        "for e in range(EPOCHS):\n",
        "    print(f\"Epoch {e + 1}\\n\" + '-' * 50)\n",
        "    loss, acc = train(train_dataloader, model, loss_fn, optim)\n",
        "    train_loss += loss; train_acc += acc\n",
        "\n",
        "    loss, acc = test(test_dataloader, model, loss_fn)\n",
        "    test_loss.append(loss); test_acc.append(acc)\n",
        "    \n",
        "print(\"Done!\")"
      ],
      "execution_count": 7,
      "outputs": [
        {
          "output_type": "stream",
          "text": [
            "Epoch 1\n",
            "--------------------------------------------------\n",
            "[    0/50000] Loss: 2.297881\tAccuracy: 14.1%\n",
            "[ 6400/50000] Loss: 1.723867\tAccuracy: 42.2%\n",
            "[12800/50000] Loss: 1.577278\tAccuracy: 46.9%\n",
            "[19200/50000] Loss: 1.197448\tAccuracy: 70.3%\n",
            "[25600/50000] Loss: 1.232255\tAccuracy: 60.9%\n",
            "[32000/50000] Loss: 1.076653\tAccuracy: 60.9%\n",
            "[38400/50000] Loss: 1.077304\tAccuracy: 60.9%\n",
            "[44800/50000] Loss: 1.253936\tAccuracy: 64.1%\n",
            "\n",
            "Test Accuracy: 60.6%\t Test Loss: 0.017825 \n",
            "\n",
            "Epoch 2\n",
            "--------------------------------------------------\n",
            "[    0/50000] Loss: 0.931250\tAccuracy: 64.1%\n",
            "[ 6400/50000] Loss: 0.998990\tAccuracy: 57.8%\n",
            "[12800/50000] Loss: 1.149099\tAccuracy: 60.9%\n",
            "[19200/50000] Loss: 1.058394\tAccuracy: 65.6%\n",
            "[25600/50000] Loss: 1.103825\tAccuracy: 67.2%\n",
            "[32000/50000] Loss: 1.154374\tAccuracy: 62.5%\n",
            "[38400/50000] Loss: 1.026270\tAccuracy: 60.9%\n",
            "[44800/50000] Loss: 0.777607\tAccuracy: 70.3%\n",
            "\n",
            "Test Accuracy: 63.2%\t Test Loss: 0.016689 \n",
            "\n",
            "Epoch 3\n",
            "--------------------------------------------------\n",
            "[    0/50000] Loss: 0.910613\tAccuracy: 68.8%\n",
            "[ 6400/50000] Loss: 0.956893\tAccuracy: 59.4%\n",
            "[12800/50000] Loss: 0.906709\tAccuracy: 57.8%\n",
            "[19200/50000] Loss: 1.038638\tAccuracy: 59.4%\n",
            "[25600/50000] Loss: 0.707961\tAccuracy: 73.4%\n",
            "[32000/50000] Loss: 1.189732\tAccuracy: 62.5%\n",
            "[38400/50000] Loss: 0.767548\tAccuracy: 75.0%\n",
            "[44800/50000] Loss: 1.142606\tAccuracy: 62.5%\n",
            "\n",
            "Test Accuracy: 68.5%\t Test Loss: 0.014539 \n",
            "\n",
            "Epoch 4\n",
            "--------------------------------------------------\n",
            "[    0/50000] Loss: 0.891591\tAccuracy: 68.8%\n",
            "[ 6400/50000] Loss: 0.737581\tAccuracy: 70.3%\n",
            "[12800/50000] Loss: 0.765244\tAccuracy: 68.8%\n",
            "[19200/50000] Loss: 0.701328\tAccuracy: 75.0%\n",
            "[25600/50000] Loss: 0.923933\tAccuracy: 75.0%\n",
            "[32000/50000] Loss: 1.067608\tAccuracy: 64.1%\n",
            "[38400/50000] Loss: 0.985330\tAccuracy: 70.3%\n",
            "[44800/50000] Loss: 0.851199\tAccuracy: 71.9%\n",
            "\n",
            "Test Accuracy: 69.6%\t Test Loss: 0.014181 \n",
            "\n",
            "Epoch 5\n",
            "--------------------------------------------------\n",
            "[    0/50000] Loss: 0.728403\tAccuracy: 73.4%\n",
            "[ 6400/50000] Loss: 0.759844\tAccuracy: 73.4%\n",
            "[12800/50000] Loss: 0.868451\tAccuracy: 70.3%\n",
            "[19200/50000] Loss: 0.905267\tAccuracy: 71.9%\n",
            "[25600/50000] Loss: 1.000272\tAccuracy: 68.8%\n",
            "[32000/50000] Loss: 0.646860\tAccuracy: 75.0%\n",
            "[38400/50000] Loss: 0.989125\tAccuracy: 71.9%\n",
            "[44800/50000] Loss: 0.946816\tAccuracy: 71.9%\n",
            "\n",
            "Test Accuracy: 69.2%\t Test Loss: 0.014301 \n",
            "\n",
            "Epoch 6\n",
            "--------------------------------------------------\n",
            "[    0/50000] Loss: 0.951230\tAccuracy: 68.8%\n",
            "[ 6400/50000] Loss: 0.860087\tAccuracy: 67.2%\n",
            "[12800/50000] Loss: 0.805410\tAccuracy: 76.6%\n",
            "[19200/50000] Loss: 0.643386\tAccuracy: 85.9%\n",
            "[25600/50000] Loss: 0.659640\tAccuracy: 76.6%\n",
            "[32000/50000] Loss: 0.870647\tAccuracy: 67.2%\n",
            "[38400/50000] Loss: 0.743594\tAccuracy: 76.6%\n",
            "[44800/50000] Loss: 0.542439\tAccuracy: 85.9%\n",
            "\n",
            "Test Accuracy: 69.8%\t Test Loss: 0.014248 \n",
            "\n",
            "Epoch 7\n",
            "--------------------------------------------------\n",
            "[    0/50000] Loss: 0.871431\tAccuracy: 75.0%\n",
            "[ 6400/50000] Loss: 0.966510\tAccuracy: 62.5%\n",
            "[12800/50000] Loss: 0.739928\tAccuracy: 70.3%\n",
            "[19200/50000] Loss: 0.827590\tAccuracy: 68.8%\n",
            "[25600/50000] Loss: 0.523966\tAccuracy: 79.7%\n",
            "[32000/50000] Loss: 0.811924\tAccuracy: 78.1%\n",
            "[38400/50000] Loss: 0.694211\tAccuracy: 73.4%\n",
            "[44800/50000] Loss: 0.716417\tAccuracy: 75.0%\n",
            "\n",
            "Test Accuracy: 70.8%\t Test Loss: 0.013571 \n",
            "\n",
            "Epoch 8\n",
            "--------------------------------------------------\n",
            "[    0/50000] Loss: 0.856405\tAccuracy: 75.0%\n",
            "[ 6400/50000] Loss: 0.680163\tAccuracy: 73.4%\n",
            "[12800/50000] Loss: 0.965821\tAccuracy: 65.6%\n",
            "[19200/50000] Loss: 0.805004\tAccuracy: 70.3%\n",
            "[25600/50000] Loss: 1.069228\tAccuracy: 62.5%\n",
            "[32000/50000] Loss: 0.870929\tAccuracy: 71.9%\n",
            "[38400/50000] Loss: 0.746366\tAccuracy: 75.0%\n",
            "[44800/50000] Loss: 0.866645\tAccuracy: 70.3%\n",
            "\n",
            "Test Accuracy: 71.7%\t Test Loss: 0.013218 \n",
            "\n",
            "Epoch 9\n",
            "--------------------------------------------------\n",
            "[    0/50000] Loss: 0.641668\tAccuracy: 79.7%\n",
            "[ 6400/50000] Loss: 0.521468\tAccuracy: 82.8%\n",
            "[12800/50000] Loss: 0.805346\tAccuracy: 73.4%\n",
            "[19200/50000] Loss: 0.644207\tAccuracy: 75.0%\n",
            "[25600/50000] Loss: 0.782548\tAccuracy: 70.3%\n",
            "[32000/50000] Loss: 0.639941\tAccuracy: 79.7%\n",
            "[38400/50000] Loss: 0.769792\tAccuracy: 81.2%\n",
            "[44800/50000] Loss: 0.660953\tAccuracy: 81.2%\n",
            "\n",
            "Test Accuracy: 70.7%\t Test Loss: 0.013737 \n",
            "\n",
            "Epoch 10\n",
            "--------------------------------------------------\n",
            "[    0/50000] Loss: 0.602134\tAccuracy: 76.6%\n",
            "[ 6400/50000] Loss: 0.627115\tAccuracy: 79.7%\n",
            "[12800/50000] Loss: 0.581042\tAccuracy: 84.4%\n",
            "[19200/50000] Loss: 0.743028\tAccuracy: 68.8%\n",
            "[25600/50000] Loss: 0.674123\tAccuracy: 82.8%\n",
            "[32000/50000] Loss: 1.150968\tAccuracy: 59.4%\n",
            "[38400/50000] Loss: 0.902028\tAccuracy: 71.9%\n",
            "[44800/50000] Loss: 0.792315\tAccuracy: 70.3%\n",
            "\n",
            "Test Accuracy: 71.5%\t Test Loss: 0.013439 \n",
            "\n",
            "Done!\n"
          ],
          "name": "stdout"
        }
      ]
    },
    {
      "cell_type": "code",
      "metadata": {
        "colab": {
          "base_uri": "https://localhost:8080/"
        },
        "id": "LRGGe1ojQg-j",
        "outputId": "8a69acd8-0a81-4124-93cb-d09a2bddab37"
      },
      "source": [
        "print(\"Training Accuracy:\\t{:.2f}%\".format(train_acc[-1]))\n",
        "print(\"Test Accuracy:\\t\\t{:.2f}%\".format(test_acc[-1]))"
      ],
      "execution_count": 8,
      "outputs": [
        {
          "output_type": "stream",
          "text": [
            "Training Accuracy:\t70.31%\n",
            "Test Accuracy:\t\t71.48%\n"
          ],
          "name": "stdout"
        }
      ]
    },
    {
      "cell_type": "code",
      "metadata": {
        "colab": {
          "base_uri": "https://localhost:8080/",
          "height": 350
        },
        "id": "x4Wo_fc2N1co",
        "outputId": "d08f3214-20a8-441a-9c67-ef85a5a03418"
      },
      "source": [
        "# Analyse the performance\n",
        "fig, ax = plt.subplots(nrows=1, ncols=2, sharex=True, figsize=(10, 5))\n",
        "\n",
        "ax[0].plot(range(len(train_loss)), train_loss)\n",
        "ax[0].set_title(\"Training Loss\")\n",
        "ax[0].set_xlabel('Mini batches')\n",
        "ax[0].set_ylabel('Categorical loss')\n",
        "\n",
        "ax[1].plot(range(len(train_acc)), train_acc)\n",
        "ax[1].set_title(\"Training Accuracy\")\n",
        "ax[1].set_xlabel('Mini batches')\n",
        "ax[1].set_ylabel('Accuracy')\n",
        "\n",
        "plt.show()"
      ],
      "execution_count": 10,
      "outputs": [
        {
          "output_type": "display_data",
          "data": {
            "image/png": "[encoded data removed]",
            "text/plain": [
              "<Figure size 720x360 with 2 Axes>"
            ]
          },
          "metadata": {
            "tags": [],
            "needs_background": "light"
          }
        }
      ]
    },
    {
      "cell_type": "markdown",
      "metadata": {
        "id": "qHPk-oHsaBZR"
      },
      "source": [
        "### Save the model to drive"
      ]
    },
    {
      "cell_type": "code",
      "metadata": {
        "colab": {
          "base_uri": "https://localhost:8080/"
        },
        "id": "diRGuNDkN1LR",
        "outputId": "d0b28b35-8b16-45c7-8455-37a0bd8b3261"
      },
      "source": [
        "torch.save(model.state_dict(), '/drive/MyDrive/Package/dcnn_simple_cifar10.pth')\n",
        "print(\"Model saved!!\")"
      ],
      "execution_count": 13,
      "outputs": [
        {
          "output_type": "stream",
          "text": [
            "Model saved!!\n"
          ],
          "name": "stdout"
        }
      ]
    },
    {
      "cell_type": "code",
      "metadata": {
        "colab": {
          "base_uri": "https://localhost:8080/"
        },
        "id": "CPpBq73bTao-",
        "outputId": "85a1154b-540b-4797-d7e4-248277a2b3e3"
      },
      "source": [
        "model = DCNN_Medium(in_channels=3, n_class=10).to(DEVICE)\n",
        "print(\"Learnable parameters: {:,}\".format(model.n_params))"
      ],
      "execution_count": 14,
      "outputs": [
        {
          "output_type": "stream",
          "text": [
            "Learnable parameters: 18,091,722\n"
          ],
          "name": "stdout"
        }
      ]
    },
    {
      "cell_type": "code",
      "metadata": {
        "colab": {
          "base_uri": "https://localhost:8080/"
        },
        "id": "5HHQf60-bE_P",
        "outputId": "8f041436-8634-478f-f2a4-29dfd9772cb0"
      },
      "source": [
        "EPOCHS = 10\n",
        "\n",
        "loss_fn = nn.CrossEntropyLoss()\n",
        "optim = torch.optim.Adam(model.parameters(), lr=1e-3)\n",
        "\n",
        "train_loss, train_acc = [], []\n",
        "test_loss, test_acc = [], []\n",
        "for e in range(EPOCHS):\n",
        "    print(f\"Epoch {e + 1}\\n\" + '-' * 50)\n",
        "    loss, acc = train(train_dataloader, model, loss_fn, optim)\n",
        "    train_loss += loss; train_acc += acc\n",
        "\n",
        "    loss, acc = test(test_dataloader, model, loss_fn)\n",
        "    test_loss.append(loss); test_acc.append(acc)\n",
        "    \n",
        "print(\"Done!\")"
      ],
      "execution_count": 15,
      "outputs": [
        {
          "output_type": "stream",
          "text": [
            "Epoch 1\n",
            "--------------------------------------------------\n",
            "[    0/50000] Loss: 2.297576\tAccuracy: 14.1%\n",
            "[ 6400/50000] Loss: 1.784473\tAccuracy: 34.4%\n",
            "[12800/50000] Loss: 1.665235\tAccuracy: 39.1%\n",
            "[19200/50000] Loss: 1.266601\tAccuracy: 53.1%\n",
            "[25600/50000] Loss: 1.225680\tAccuracy: 56.2%\n",
            "[32000/50000] Loss: 1.432505\tAccuracy: 54.7%\n",
            "[38400/50000] Loss: 1.352949\tAccuracy: 56.2%\n",
            "[44800/50000] Loss: 1.223836\tAccuracy: 45.3%\n",
            "\n",
            "Test Accuracy: 58.1%\t Test Loss: 0.018396 \n",
            "\n",
            "Epoch 2\n",
            "--------------------------------------------------\n",
            "[    0/50000] Loss: 1.032405\tAccuracy: 57.8%\n",
            "[ 6400/50000] Loss: 0.880527\tAccuracy: 65.6%\n",
            "[12800/50000] Loss: 1.179677\tAccuracy: 53.1%\n",
            "[19200/50000] Loss: 0.919400\tAccuracy: 67.2%\n",
            "[25600/50000] Loss: 0.813876\tAccuracy: 68.8%\n",
            "[32000/50000] Loss: 1.018192\tAccuracy: 70.3%\n",
            "[38400/50000] Loss: 0.969269\tAccuracy: 68.8%\n",
            "[44800/50000] Loss: 0.748852\tAccuracy: 70.3%\n",
            "\n",
            "Test Accuracy: 69.7%\t Test Loss: 0.013842 \n",
            "\n",
            "Epoch 3\n",
            "--------------------------------------------------\n",
            "[    0/50000] Loss: 0.686314\tAccuracy: 75.0%\n",
            "[ 6400/50000] Loss: 0.686805\tAccuracy: 73.4%\n",
            "[12800/50000] Loss: 0.748169\tAccuracy: 73.4%\n",
            "[19200/50000] Loss: 0.897416\tAccuracy: 71.9%\n",
            "[25600/50000] Loss: 1.030034\tAccuracy: 62.5%\n",
            "[32000/50000] Loss: 0.640454\tAccuracy: 81.2%\n",
            "[38400/50000] Loss: 0.931495\tAccuracy: 65.6%\n",
            "[44800/50000] Loss: 1.172235\tAccuracy: 60.9%\n",
            "\n",
            "Test Accuracy: 67.1%\t Test Loss: 0.015503 \n",
            "\n",
            "Epoch 4\n",
            "--------------------------------------------------\n",
            "[    0/50000] Loss: 0.656497\tAccuracy: 79.7%\n",
            "[ 6400/50000] Loss: 0.929544\tAccuracy: 60.9%\n",
            "[12800/50000] Loss: 0.520357\tAccuracy: 84.4%\n",
            "[19200/50000] Loss: 0.499920\tAccuracy: 85.9%\n",
            "[25600/50000] Loss: 0.787118\tAccuracy: 76.6%\n",
            "[32000/50000] Loss: 0.962168\tAccuracy: 62.5%\n",
            "[38400/50000] Loss: 0.869364\tAccuracy: 71.9%\n",
            "[44800/50000] Loss: 0.692165\tAccuracy: 71.9%\n",
            "\n",
            "Test Accuracy: 75.0%\t Test Loss: 0.012250 \n",
            "\n",
            "Epoch 5\n",
            "--------------------------------------------------\n",
            "[    0/50000] Loss: 0.505738\tAccuracy: 87.5%\n",
            "[ 6400/50000] Loss: 0.508326\tAccuracy: 81.2%\n",
            "[12800/50000] Loss: 0.619361\tAccuracy: 76.6%\n",
            "[19200/50000] Loss: 0.755806\tAccuracy: 76.6%\n",
            "[25600/50000] Loss: 0.692327\tAccuracy: 78.1%\n",
            "[32000/50000] Loss: 0.628029\tAccuracy: 79.7%\n",
            "[38400/50000] Loss: 0.625361\tAccuracy: 78.1%\n",
            "[44800/50000] Loss: 0.590336\tAccuracy: 79.7%\n",
            "\n",
            "Test Accuracy: 74.2%\t Test Loss: 0.012621 \n",
            "\n",
            "Epoch 6\n",
            "--------------------------------------------------\n",
            "[    0/50000] Loss: 0.435774\tAccuracy: 84.4%\n",
            "[ 6400/50000] Loss: 0.465323\tAccuracy: 85.9%\n",
            "[12800/50000] Loss: 0.861748\tAccuracy: 79.7%\n",
            "[19200/50000] Loss: 0.579965\tAccuracy: 82.8%\n",
            "[25600/50000] Loss: 0.580879\tAccuracy: 84.4%\n",
            "[32000/50000] Loss: 0.564341\tAccuracy: 79.7%\n",
            "[38400/50000] Loss: 0.734664\tAccuracy: 73.4%\n",
            "[44800/50000] Loss: 0.463984\tAccuracy: 87.5%\n",
            "\n",
            "Test Accuracy: 74.3%\t Test Loss: 0.013502 \n",
            "\n",
            "Epoch 7\n",
            "--------------------------------------------------\n",
            "[    0/50000] Loss: 0.389667\tAccuracy: 89.1%\n",
            "[ 6400/50000] Loss: 0.401241\tAccuracy: 82.8%\n",
            "[12800/50000] Loss: 0.642018\tAccuracy: 84.4%\n",
            "[19200/50000] Loss: 0.605079\tAccuracy: 76.6%\n",
            "[25600/50000] Loss: 0.450503\tAccuracy: 85.9%\n",
            "[32000/50000] Loss: 0.438808\tAccuracy: 82.8%\n",
            "[38400/50000] Loss: 0.746022\tAccuracy: 75.0%\n",
            "[44800/50000] Loss: 0.547579\tAccuracy: 84.4%\n",
            "\n",
            "Test Accuracy: 75.1%\t Test Loss: 0.013328 \n",
            "\n",
            "Epoch 8\n",
            "--------------------------------------------------\n",
            "[    0/50000] Loss: 0.405491\tAccuracy: 85.9%\n",
            "[ 6400/50000] Loss: 0.379614\tAccuracy: 89.1%\n",
            "[12800/50000] Loss: 0.582898\tAccuracy: 87.5%\n",
            "[19200/50000] Loss: 0.427312\tAccuracy: 87.5%\n",
            "[25600/50000] Loss: 0.314912\tAccuracy: 89.1%\n",
            "[32000/50000] Loss: 0.538250\tAccuracy: 87.5%\n",
            "[38400/50000] Loss: 0.407026\tAccuracy: 92.2%\n",
            "[44800/50000] Loss: 0.484755\tAccuracy: 87.5%\n",
            "\n",
            "Test Accuracy: 70.4%\t Test Loss: 0.018873 \n",
            "\n",
            "Epoch 9\n",
            "--------------------------------------------------\n",
            "[    0/50000] Loss: 0.644053\tAccuracy: 78.1%\n",
            "[ 6400/50000] Loss: 0.518426\tAccuracy: 84.4%\n",
            "[12800/50000] Loss: 0.592419\tAccuracy: 84.4%\n",
            "[19200/50000] Loss: 0.458701\tAccuracy: 89.1%\n",
            "[25600/50000] Loss: 0.371523\tAccuracy: 85.9%\n",
            "[32000/50000] Loss: 0.579925\tAccuracy: 84.4%\n",
            "[38400/50000] Loss: 0.500266\tAccuracy: 85.9%\n",
            "[44800/50000] Loss: 0.378351\tAccuracy: 85.9%\n",
            "\n",
            "Test Accuracy: 69.2%\t Test Loss: 0.018964 \n",
            "\n",
            "Epoch 10\n",
            "--------------------------------------------------\n",
            "[    0/50000] Loss: 0.891903\tAccuracy: 68.8%\n",
            "[ 6400/50000] Loss: 0.293108\tAccuracy: 90.6%\n",
            "[12800/50000] Loss: 0.586927\tAccuracy: 84.4%\n",
            "[19200/50000] Loss: 0.582601\tAccuracy: 87.5%\n",
            "[25600/50000] Loss: 0.515119\tAccuracy: 92.2%\n",
            "[32000/50000] Loss: 0.411900\tAccuracy: 87.5%\n",
            "[38400/50000] Loss: 0.690760\tAccuracy: 82.8%\n",
            "[44800/50000] Loss: 0.611759\tAccuracy: 82.8%\n",
            "\n",
            "Test Accuracy: 77.1%\t Test Loss: 0.015287 \n",
            "\n",
            "Done!\n"
          ],
          "name": "stdout"
        }
      ]
    },
    {
      "cell_type": "code",
      "metadata": {
        "colab": {
          "base_uri": "https://localhost:8080/"
        },
        "id": "Nu6v49DRe_aY",
        "outputId": "39ad7230-121e-43fb-8526-bc93ecb3fb6e"
      },
      "source": [
        "print(\"Training Accuracy:\\t{:.2f}%\".format(train_acc[-1]))\n",
        "print(\"Test Accuracy:\\t\\t{:.2f}%\".format(test_acc[-1]))"
      ],
      "execution_count": 16,
      "outputs": [
        {
          "output_type": "stream",
          "text": [
            "Training Accuracy:\t82.81%\n",
            "Test Accuracy:\t\t77.12%\n"
          ],
          "name": "stdout"
        }
      ]
    },
    {
      "cell_type": "code",
      "metadata": {
        "colab": {
          "base_uri": "https://localhost:8080/",
          "height": 350
        },
        "id": "WoWQtnPifAJV",
        "outputId": "919b0dea-f436-458a-a5c0-3b15e8ba44b6"
      },
      "source": [
        "# Analyse the performance\n",
        "fig, ax = plt.subplots(nrows=1, ncols=2, sharex=True, figsize=(10, 5))\n",
        "\n",
        "ax[0].plot(range(len(train_loss)), train_loss)\n",
        "ax[0].set_title(\"Training Loss\")\n",
        "ax[0].set_xlabel('Mini batches')\n",
        "ax[0].set_ylabel('Categorical loss')\n",
        "\n",
        "ax[1].plot(range(len(train_acc)), train_acc)\n",
        "ax[1].set_title(\"Training Accuracy\")\n",
        "ax[1].set_xlabel('Mini batches')\n",
        "ax[1].set_ylabel('Accuracy')\n",
        "\n",
        "plt.show()"
      ],
      "execution_count": 17,
      "outputs": [
        {
          "output_type": "display_data",
          "data": {
            "image/png": "[encoded data removed]",
            "text/plain": [
              "<Figure size 720x360 with 2 Axes>"
            ]
          },
          "metadata": {
            "tags": [],
            "needs_background": "light"
          }
        }
      ]
    },
    {
      "cell_type": "code",
      "metadata": {
        "colab": {
          "base_uri": "https://localhost:8080/"
        },
        "id": "U48TmphlfNQg",
        "outputId": "2bbb2c8d-36bb-4273-eb24-238857f14c23"
      },
      "source": [
        "torch.save(model.state_dict(), '/drive/MyDrive/Package/dcnn_medium_cifar10.pth')\n",
        "print(\"Model saved!!\")"
      ],
      "execution_count": 18,
      "outputs": [
        {
          "output_type": "stream",
          "text": [
            "Model saved!!\n"
          ],
          "name": "stdout"
        }
      ]
    }
  ]
}