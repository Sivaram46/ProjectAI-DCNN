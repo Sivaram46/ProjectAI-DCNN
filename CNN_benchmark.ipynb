{
  "nbformat": 4,
  "nbformat_minor": 0,
  "metadata": {
    "colab": {
      "name": "CNN-benchmark.ipynb",
      "provenance": []
    },
    "kernelspec": {
      "name": "python3",
      "display_name": "Python 3"
    },
    "language_info": {
      "name": "python"
    },
    "accelerator": "GPU",
    "widgets": {
      "application/vnd.jupyter.widget-state+json": {
        "4f76cefc00ee487cac59ee21055a3d76": {
          "model_module": "@jupyter-widgets/controls",
          "model_name": "HBoxModel",
          "state": {
            "_view_name": "HBoxView",
            "_dom_classes": [],
            "_model_name": "HBoxModel",
            "_view_module": "@jupyter-widgets/controls",
            "_model_module_version": "1.5.0",
            "_view_count": null,
            "_view_module_version": "1.5.0",
            "box_style": "",
            "layout": "IPY_MODEL_7921f8cb5edc4a9ea7b54cbe329dc906",
            "_model_module": "@jupyter-widgets/controls",
            "children": [
              "IPY_MODEL_41ba065795c146dd833b814e07cefa6f",
              "IPY_MODEL_04e87cbd6ccb40a99b8c38240a75a6d3"
            ]
          }
        },
        "7921f8cb5edc4a9ea7b54cbe329dc906": {
          "model_module": "@jupyter-widgets/base",
          "model_name": "LayoutModel",
          "state": {
            "_view_name": "LayoutView",
            "grid_template_rows": null,
            "right": null,
            "justify_content": null,
            "_view_module": "@jupyter-widgets/base",
            "overflow": null,
            "_model_module_version": "1.2.0",
            "_view_count": null,
            "flex_flow": null,
            "width": null,
            "min_width": null,
            "border": null,
            "align_items": null,
            "bottom": null,
            "_model_module": "@jupyter-widgets/base",
            "top": null,
            "grid_column": null,
            "overflow_y": null,
            "overflow_x": null,
            "grid_auto_flow": null,
            "grid_area": null,
            "grid_template_columns": null,
            "flex": null,
            "_model_name": "LayoutModel",
            "justify_items": null,
            "grid_row": null,
            "max_height": null,
            "align_content": null,
            "visibility": null,
            "align_self": null,
            "height": null,
            "min_height": null,
            "padding": null,
            "grid_auto_rows": null,
            "grid_gap": null,
            "max_width": null,
            "order": null,
            "_view_module_version": "1.2.0",
            "grid_template_areas": null,
            "object_position": null,
            "object_fit": null,
            "grid_auto_columns": null,
            "margin": null,
            "display": null,
            "left": null
          }
        },
        "41ba065795c146dd833b814e07cefa6f": {
          "model_module": "@jupyter-widgets/controls",
          "model_name": "FloatProgressModel",
          "state": {
            "_view_name": "ProgressView",
            "style": "IPY_MODEL_a098c3bb22a141eaa1f4688a49bee495",
            "_dom_classes": [],
            "description": "",
            "_model_name": "FloatProgressModel",
            "bar_style": "success",
            "max": 170498071,
            "_view_module": "@jupyter-widgets/controls",
            "_model_module_version": "1.5.0",
            "value": 170498071,
            "_view_count": null,
            "_view_module_version": "1.5.0",
            "orientation": "horizontal",
            "min": 0,
            "description_tooltip": null,
            "_model_module": "@jupyter-widgets/controls",
            "layout": "IPY_MODEL_9465442828a144d3bfca5e0d492183b9"
          }
        },
        "04e87cbd6ccb40a99b8c38240a75a6d3": {
          "model_module": "@jupyter-widgets/controls",
          "model_name": "HTMLModel",
          "state": {
            "_view_name": "HTMLView",
            "style": "IPY_MODEL_8fa6086508574d45b74cd2f60aa1e843",
            "_dom_classes": [],
            "description": "",
            "_model_name": "HTMLModel",
            "placeholder": "​",
            "_view_module": "@jupyter-widgets/controls",
            "_model_module_version": "1.5.0",
            "value": " 170499072/? [05:43&lt;00:00, 495968.13it/s]",
            "_view_count": null,
            "_view_module_version": "1.5.0",
            "description_tooltip": null,
            "_model_module": "@jupyter-widgets/controls",
            "layout": "IPY_MODEL_4d2b54e9bf5342a9a08afb40ff91afea"
          }
        },
        "a098c3bb22a141eaa1f4688a49bee495": {
          "model_module": "@jupyter-widgets/controls",
          "model_name": "ProgressStyleModel",
          "state": {
            "_view_name": "StyleView",
            "_model_name": "ProgressStyleModel",
            "description_width": "initial",
            "_view_module": "@jupyter-widgets/base",
            "_model_module_version": "1.5.0",
            "_view_count": null,
            "_view_module_version": "1.2.0",
            "bar_color": null,
            "_model_module": "@jupyter-widgets/controls"
          }
        },
        "9465442828a144d3bfca5e0d492183b9": {
          "model_module": "@jupyter-widgets/base",
          "model_name": "LayoutModel",
          "state": {
            "_view_name": "LayoutView",
            "grid_template_rows": null,
            "right": null,
            "justify_content": null,
            "_view_module": "@jupyter-widgets/base",
            "overflow": null,
            "_model_module_version": "1.2.0",
            "_view_count": null,
            "flex_flow": null,
            "width": null,
            "min_width": null,
            "border": null,
            "align_items": null,
            "bottom": null,
            "_model_module": "@jupyter-widgets/base",
            "top": null,
            "grid_column": null,
            "overflow_y": null,
            "overflow_x": null,
            "grid_auto_flow": null,
            "grid_area": null,
            "grid_template_columns": null,
            "flex": null,
            "_model_name": "LayoutModel",
            "justify_items": null,
            "grid_row": null,
            "max_height": null,
            "align_content": null,
            "visibility": null,
            "align_self": null,
            "height": null,
            "min_height": null,
            "padding": null,
            "grid_auto_rows": null,
            "grid_gap": null,
            "max_width": null,
            "order": null,
            "_view_module_version": "1.2.0",
            "grid_template_areas": null,
            "object_position": null,
            "object_fit": null,
            "grid_auto_columns": null,
            "margin": null,
            "display": null,
            "left": null
          }
        },
        "8fa6086508574d45b74cd2f60aa1e843": {
          "model_module": "@jupyter-widgets/controls",
          "model_name": "DescriptionStyleModel",
          "state": {
            "_view_name": "StyleView",
            "_model_name": "DescriptionStyleModel",
            "description_width": "",
            "_view_module": "@jupyter-widgets/base",
            "_model_module_version": "1.5.0",
            "_view_count": null,
            "_view_module_version": "1.2.0",
            "_model_module": "@jupyter-widgets/controls"
          }
        },
        "4d2b54e9bf5342a9a08afb40ff91afea": {
          "model_module": "@jupyter-widgets/base",
          "model_name": "LayoutModel",
          "state": {
            "_view_name": "LayoutView",
            "grid_template_rows": null,
            "right": null,
            "justify_content": null,
            "_view_module": "@jupyter-widgets/base",
            "overflow": null,
            "_model_module_version": "1.2.0",
            "_view_count": null,
            "flex_flow": null,
            "width": null,
            "min_width": null,
            "border": null,
            "align_items": null,
            "bottom": null,
            "_model_module": "@jupyter-widgets/base",
            "top": null,
            "grid_column": null,
            "overflow_y": null,
            "overflow_x": null,
            "grid_auto_flow": null,
            "grid_area": null,
            "grid_template_columns": null,
            "flex": null,
            "_model_name": "LayoutModel",
            "justify_items": null,
            "grid_row": null,
            "max_height": null,
            "align_content": null,
            "visibility": null,
            "align_self": null,
            "height": null,
            "min_height": null,
            "padding": null,
            "grid_auto_rows": null,
            "grid_gap": null,
            "max_width": null,
            "order": null,
            "_view_module_version": "1.2.0",
            "grid_template_areas": null,
            "object_position": null,
            "object_fit": null,
            "grid_auto_columns": null,
            "margin": null,
            "display": null,
            "left": null
          }
        }
      }
    }
  },
  "cells": [
    {
      "cell_type": "code",
      "metadata": {
        "id": "eaU30HtkT2kt"
      },
      "source": [
        "import os\n",
        "\n",
        "import matplotlib.pyplot as plt \n",
        "import numpy as np \n",
        "\n",
        "import torch\n",
        "from torch import nn\n",
        "import torch.nn.functional as F\n",
        "from torch.utils.data import DataLoader\n",
        "\n",
        "import torchvision\n",
        "from torchvision.transforms import ToTensor\n",
        "from torchvision import datasets\n",
        "import torchvision.transforms.functional as TF"
      ],
      "execution_count": 1,
      "outputs": []
    },
    {
      "cell_type": "code",
      "metadata": {
        "colab": {
          "base_uri": "https://localhost:8080/"
        },
        "id": "tYizo34DUBox",
        "outputId": "15a4cb05-50bb-41f3-d34e-d137f39ce57d"
      },
      "source": [
        "!git clone https://github.com/Sivaram46/ProjectAI-DCNN.git\n",
        "\n",
        "os.chdir('ProjectAI-DCNN')\n",
        "from DConv import DConv2d\n",
        "from models import DCNN_Simple, DCNN_Medium\n",
        "from train_test import train, test\n",
        "from load_dataset import *"
      ],
      "execution_count": 2,
      "outputs": [
        {
          "output_type": "stream",
          "text": [
            "Cloning into 'ProjectAI-DCNN'...\n",
            "remote: Enumerating objects: 24, done.\u001b[K\n",
            "remote: Counting objects: 100% (24/24), done.\u001b[K\n",
            "remote: Compressing objects: 100% (16/16), done.\u001b[K\n",
            "remote: Total 24 (delta 10), reused 22 (delta 8), pack-reused 0\u001b[K\n",
            "Unpacking objects: 100% (24/24), done.\n"
          ],
          "name": "stdout"
        }
      ]
    },
    {
      "cell_type": "code",
      "metadata": {
        "colab": {
          "base_uri": "https://localhost:8080/"
        },
        "id": "fr2aC3vSULTL",
        "outputId": "8c5ae9bb-11cc-4de6-9530-ffed172d56f2"
      },
      "source": [
        "from google.colab import drive \n",
        "drive.mount('/drive/')"
      ],
      "execution_count": 3,
      "outputs": [
        {
          "output_type": "stream",
          "text": [
            "Mounted at /drive/\n"
          ],
          "name": "stdout"
        }
      ]
    },
    {
      "cell_type": "code",
      "metadata": {
        "colab": {
          "base_uri": "https://localhost:8080/",
          "height": 183,
          "referenced_widgets": [
            "4f76cefc00ee487cac59ee21055a3d76",
            "7921f8cb5edc4a9ea7b54cbe329dc906",
            "41ba065795c146dd833b814e07cefa6f",
            "04e87cbd6ccb40a99b8c38240a75a6d3",
            "a098c3bb22a141eaa1f4688a49bee495",
            "9465442828a144d3bfca5e0d492183b9",
            "8fa6086508574d45b74cd2f60aa1e843",
            "4d2b54e9bf5342a9a08afb40ff91afea"
          ]
        },
        "id": "b8dwlGHbUNW6",
        "outputId": "f82c4f3b-f457-4325-bafa-fa8a78bd2093"
      },
      "source": [
        "train_dataloader, test_dataloader, classes = load_cifar10(64)\n",
        "\n",
        "for X, y in train_dataloader:\n",
        "    print('\\n\\n', X.shape)\n",
        "    print(y.shape)\n",
        "    break"
      ],
      "execution_count": 4,
      "outputs": [
        {
          "output_type": "stream",
          "text": [
            "Downloading https://www.cs.toronto.edu/~kriz/cifar-10-python.tar.gz to data/cifar-10-python.tar.gz\n"
          ],
          "name": "stdout"
        },
        {
          "output_type": "display_data",
          "data": {
            "application/vnd.jupyter.widget-view+json": {
              "model_id": "4f76cefc00ee487cac59ee21055a3d76",
              "version_minor": 0,
              "version_major": 2
            },
            "text/plain": [
              "HBox(children=(FloatProgress(value=0.0, max=170498071.0), HTML(value='')))"
            ]
          },
          "metadata": {
            "tags": []
          }
        },
        {
          "output_type": "stream",
          "text": [
            "\n",
            "Extracting data/cifar-10-python.tar.gz to data\n",
            "Files already downloaded and verified\n",
            "\n",
            "\n",
            " torch.Size([64, 3, 32, 32])\n",
            "torch.Size([64])\n"
          ],
          "name": "stdout"
        }
      ]
    },
    {
      "cell_type": "code",
      "metadata": {
        "colab": {
          "base_uri": "https://localhost:8080/"
        },
        "id": "Estz7i7PXOZy",
        "outputId": "c4673e9a-6b8a-43fb-e9d4-ff04da3fc5de"
      },
      "source": [
        "DEVICE = 'cuda' if torch.cuda.is_available() else 'cpu'\n",
        "print(\"Using {} device\".format(DEVICE))"
      ],
      "execution_count": 5,
      "outputs": [
        {
          "output_type": "stream",
          "text": [
            "Using cuda device\n"
          ],
          "name": "stdout"
        }
      ]
    },
    {
      "cell_type": "markdown",
      "metadata": {
        "id": "XQXv15oaYS3t"
      },
      "source": [
        "### Simple CNN model\n"
      ]
    },
    {
      "cell_type": "code",
      "metadata": {
        "id": "jNP0nI2bXVyr"
      },
      "source": [
        "class CNN_Simple(nn.Module):\n",
        "    def __init__(self, in_channels: int, n_class: int):\n",
        "        super(CNN_Simple, self).__init__()\n",
        "\n",
        "        self.in_channels = in_channels\n",
        "        self.n_class = n_class\n",
        "\n",
        "        self.model = nn.Sequential(\n",
        "            nn.Conv2d(self.in_channels, 8, 3),     \n",
        "            nn.ReLU(),\n",
        "            nn.MaxPool2d(2, 2),     \n",
        "\n",
        "            nn.Conv2d(8, 16, 3),    \n",
        "            nn.ReLU(),\n",
        "            nn.MaxPool2d(2, 2),     \n",
        "\n",
        "            nn.AdaptiveAvgPool2d((7, 7)),\n",
        "            nn.Flatten(),\n",
        "            nn.Linear(7*7*16, self.n_class)      \n",
        "        )\n",
        "\n",
        "        self.n_params = sum(\n",
        "            p.numel() for p in self.model.parameters() if p.requires_grad\n",
        "        )\n",
        "\n",
        "    def forward(self, x):\n",
        "        logits = self.model(x)\n",
        "        return logits"
      ],
      "execution_count": 9,
      "outputs": []
    },
    {
      "cell_type": "code",
      "metadata": {
        "colab": {
          "base_uri": "https://localhost:8080/"
        },
        "id": "eM4aAXXzZrQT",
        "outputId": "2ed8c59b-7961-48c9-f30a-1a6f2cf820d7"
      },
      "source": [
        "model = CNN_Simple(in_channels=3, n_class=10).to(DEVICE)\n",
        "print(\"Learnable parameters: {:,}\".format(model.n_params))"
      ],
      "execution_count": 10,
      "outputs": [
        {
          "output_type": "stream",
          "text": [
            "Learnable parameters: 9,242\n"
          ],
          "name": "stdout"
        }
      ]
    },
    {
      "cell_type": "markdown",
      "metadata": {
        "id": "3C4K93JGZ0G0"
      },
      "source": [
        "### Traininig Loop"
      ]
    },
    {
      "cell_type": "code",
      "metadata": {
        "colab": {
          "base_uri": "https://localhost:8080/"
        },
        "id": "eKXDgz0DZjL0",
        "outputId": "c70312b4-dd14-4b78-a681-48e15fded024"
      },
      "source": [
        "EPOCHS = 10\n",
        "\n",
        "loss_fn = nn.CrossEntropyLoss()\n",
        "optim = torch.optim.Adam(model.parameters(), lr=1e-3)\n",
        "\n",
        "train_loss, train_acc = [], []\n",
        "test_loss, test_acc = [], []\n",
        "for e in range(EPOCHS):\n",
        "    print(f\"Epoch {e + 1}\\n\" + '-' * 50)\n",
        "    loss, acc = train(train_dataloader, model, loss_fn, optim)\n",
        "    train_loss += loss; train_acc += acc\n",
        "\n",
        "    loss, acc = test(test_dataloader, model, loss_fn)\n",
        "    test_loss.append(loss); test_acc.append(acc)\n",
        "    \n",
        "print(\"Done!\")"
      ],
      "execution_count": 11,
      "outputs": [
        {
          "output_type": "stream",
          "text": [
            "Epoch 1\n",
            "--------------------------------------------------\n",
            "[    0/50000] Loss: 2.304962\tAccuracy: 6.2%\n",
            "[ 6400/50000] Loss: 1.888993\tAccuracy: 29.7%\n",
            "[12800/50000] Loss: 1.779648\tAccuracy: 31.2%\n",
            "[19200/50000] Loss: 1.704879\tAccuracy: 43.8%\n",
            "[25600/50000] Loss: 1.693216\tAccuracy: 50.0%\n",
            "[32000/50000] Loss: 1.736766\tAccuracy: 35.9%\n",
            "[38400/50000] Loss: 2.013005\tAccuracy: 29.7%\n",
            "[44800/50000] Loss: 1.547953\tAccuracy: 42.2%\n",
            "\n",
            "Test Accuracy: 43.7%\t Test Loss: 0.024898 \n",
            "\n",
            "Epoch 2\n",
            "--------------------------------------------------\n",
            "[    0/50000] Loss: 1.503881\tAccuracy: 48.4%\n",
            "[ 6400/50000] Loss: 1.433473\tAccuracy: 48.4%\n",
            "[12800/50000] Loss: 1.751077\tAccuracy: 37.5%\n",
            "[19200/50000] Loss: 1.698400\tAccuracy: 34.4%\n",
            "[25600/50000] Loss: 1.492160\tAccuracy: 35.9%\n",
            "[32000/50000] Loss: 1.707285\tAccuracy: 45.3%\n",
            "[38400/50000] Loss: 1.329365\tAccuracy: 53.1%\n",
            "[44800/50000] Loss: 1.532062\tAccuracy: 48.4%\n",
            "\n",
            "Test Accuracy: 48.5%\t Test Loss: 0.022766 \n",
            "\n",
            "Epoch 3\n",
            "--------------------------------------------------\n",
            "[    0/50000] Loss: 1.159233\tAccuracy: 57.8%\n",
            "[ 6400/50000] Loss: 1.441853\tAccuracy: 48.4%\n",
            "[12800/50000] Loss: 1.464013\tAccuracy: 46.9%\n",
            "[19200/50000] Loss: 1.530261\tAccuracy: 48.4%\n",
            "[25600/50000] Loss: 1.484269\tAccuracy: 53.1%\n",
            "[32000/50000] Loss: 1.457122\tAccuracy: 51.6%\n",
            "[38400/50000] Loss: 1.356022\tAccuracy: 60.9%\n",
            "[44800/50000] Loss: 1.573781\tAccuracy: 45.3%\n",
            "\n",
            "Test Accuracy: 51.8%\t Test Loss: 0.021278 \n",
            "\n",
            "Epoch 4\n",
            "--------------------------------------------------\n",
            "[    0/50000] Loss: 1.300039\tAccuracy: 54.7%\n",
            "[ 6400/50000] Loss: 1.335940\tAccuracy: 48.4%\n",
            "[12800/50000] Loss: 1.545395\tAccuracy: 42.2%\n",
            "[19200/50000] Loss: 1.393310\tAccuracy: 46.9%\n",
            "[25600/50000] Loss: 1.309972\tAccuracy: 50.0%\n",
            "[32000/50000] Loss: 1.553521\tAccuracy: 51.6%\n",
            "[38400/50000] Loss: 1.210619\tAccuracy: 59.4%\n",
            "[44800/50000] Loss: 1.186458\tAccuracy: 60.9%\n",
            "\n",
            "Test Accuracy: 54.7%\t Test Loss: 0.020200 \n",
            "\n",
            "Epoch 5\n",
            "--------------------------------------------------\n",
            "[    0/50000] Loss: 1.350014\tAccuracy: 51.6%\n",
            "[ 6400/50000] Loss: 1.205969\tAccuracy: 51.6%\n",
            "[12800/50000] Loss: 1.147523\tAccuracy: 68.8%\n",
            "[19200/50000] Loss: 1.418929\tAccuracy: 42.2%\n",
            "[25600/50000] Loss: 1.312473\tAccuracy: 48.4%\n",
            "[32000/50000] Loss: 1.036918\tAccuracy: 67.2%\n",
            "[38400/50000] Loss: 1.168636\tAccuracy: 59.4%\n",
            "[44800/50000] Loss: 1.599506\tAccuracy: 46.9%\n",
            "\n",
            "Test Accuracy: 55.6%\t Test Loss: 0.019578 \n",
            "\n",
            "Epoch 6\n",
            "--------------------------------------------------\n",
            "[    0/50000] Loss: 1.051483\tAccuracy: 67.2%\n",
            "[ 6400/50000] Loss: 1.147685\tAccuracy: 59.4%\n",
            "[12800/50000] Loss: 1.130861\tAccuracy: 65.6%\n",
            "[19200/50000] Loss: 1.250585\tAccuracy: 57.8%\n",
            "[25600/50000] Loss: 1.190587\tAccuracy: 62.5%\n",
            "[32000/50000] Loss: 1.240044\tAccuracy: 54.7%\n",
            "[38400/50000] Loss: 1.448127\tAccuracy: 51.6%\n",
            "[44800/50000] Loss: 1.197936\tAccuracy: 60.9%\n",
            "\n",
            "Test Accuracy: 56.4%\t Test Loss: 0.019306 \n",
            "\n",
            "Epoch 7\n",
            "--------------------------------------------------\n",
            "[    0/50000] Loss: 1.280041\tAccuracy: 57.8%\n",
            "[ 6400/50000] Loss: 1.104696\tAccuracy: 60.9%\n",
            "[12800/50000] Loss: 1.352971\tAccuracy: 54.7%\n",
            "[19200/50000] Loss: 1.216702\tAccuracy: 62.5%\n",
            "[25600/50000] Loss: 1.392288\tAccuracy: 48.4%\n",
            "[32000/50000] Loss: 1.095929\tAccuracy: 65.6%\n",
            "[38400/50000] Loss: 1.098120\tAccuracy: 60.9%\n",
            "[44800/50000] Loss: 1.254055\tAccuracy: 56.2%\n",
            "\n",
            "Test Accuracy: 58.0%\t Test Loss: 0.018945 \n",
            "\n",
            "Epoch 8\n",
            "--------------------------------------------------\n",
            "[    0/50000] Loss: 1.063369\tAccuracy: 60.9%\n",
            "[ 6400/50000] Loss: 0.987603\tAccuracy: 60.9%\n",
            "[12800/50000] Loss: 1.186920\tAccuracy: 62.5%\n",
            "[19200/50000] Loss: 1.145244\tAccuracy: 62.5%\n",
            "[25600/50000] Loss: 1.392034\tAccuracy: 57.8%\n",
            "[32000/50000] Loss: 1.249609\tAccuracy: 56.2%\n",
            "[38400/50000] Loss: 1.114449\tAccuracy: 67.2%\n",
            "[44800/50000] Loss: 1.325430\tAccuracy: 62.5%\n",
            "\n",
            "Test Accuracy: 58.3%\t Test Loss: 0.018625 \n",
            "\n",
            "Epoch 9\n",
            "--------------------------------------------------\n",
            "[    0/50000] Loss: 1.366820\tAccuracy: 62.5%\n",
            "[ 6400/50000] Loss: 1.001577\tAccuracy: 67.2%\n",
            "[12800/50000] Loss: 1.245810\tAccuracy: 59.4%\n",
            "[19200/50000] Loss: 0.979816\tAccuracy: 64.1%\n",
            "[25600/50000] Loss: 1.192012\tAccuracy: 60.9%\n",
            "[32000/50000] Loss: 1.002679\tAccuracy: 70.3%\n",
            "[38400/50000] Loss: 1.221377\tAccuracy: 57.8%\n",
            "[44800/50000] Loss: 1.124300\tAccuracy: 64.1%\n",
            "\n",
            "Test Accuracy: 59.6%\t Test Loss: 0.018205 \n",
            "\n",
            "Epoch 10\n",
            "--------------------------------------------------\n",
            "[    0/50000] Loss: 0.974131\tAccuracy: 68.8%\n",
            "[ 6400/50000] Loss: 1.256022\tAccuracy: 54.7%\n",
            "[12800/50000] Loss: 1.352727\tAccuracy: 64.1%\n",
            "[19200/50000] Loss: 1.297230\tAccuracy: 53.1%\n",
            "[25600/50000] Loss: 1.193628\tAccuracy: 60.9%\n",
            "[32000/50000] Loss: 1.048408\tAccuracy: 65.6%\n",
            "[38400/50000] Loss: 1.114927\tAccuracy: 65.6%\n",
            "[44800/50000] Loss: 0.918209\tAccuracy: 68.8%\n",
            "\n",
            "Test Accuracy: 59.8%\t Test Loss: 0.018091 \n",
            "\n",
            "Done!\n"
          ],
          "name": "stdout"
        }
      ]
    },
    {
      "cell_type": "code",
      "metadata": {
        "colab": {
          "base_uri": "https://localhost:8080/"
        },
        "id": "L2ANmLNyZ3K_",
        "outputId": "7d7bc426-674b-43f0-ee98-0a23bf0d0958"
      },
      "source": [
        "print(\"Training Accuracy:\\t{:.2f}%\".format(train_acc[-1]))\n",
        "print(\"Test Accuracy:\\t\\t{:.2f}%\".format(test_acc[-1]))"
      ],
      "execution_count": 12,
      "outputs": [
        {
          "output_type": "stream",
          "text": [
            "Training Accuracy:\t68.75%\n",
            "Test Accuracy:\t\t59.81%\n"
          ],
          "name": "stdout"
        }
      ]
    },
    {
      "cell_type": "code",
      "metadata": {
        "colab": {
          "base_uri": "https://localhost:8080/",
          "height": 350
        },
        "id": "Zkr7q__FatjM",
        "outputId": "f800aca8-b2ee-4e4c-f74a-9131c2a3a03b"
      },
      "source": [
        "# Analyse the performance\n",
        "fig, ax = plt.subplots(nrows=1, ncols=2, sharex=True, figsize=(10, 5))\n",
        "\n",
        "ax[0].plot(range(len(train_loss)), train_loss)\n",
        "ax[0].set_title(\"Training Loss\")\n",
        "ax[0].set_xlabel('Mini batches')\n",
        "ax[0].set_ylabel('Categorical loss')\n",
        "\n",
        "ax[1].plot(range(len(train_acc)), train_acc)\n",
        "ax[1].set_title(\"Training Accuracy\")\n",
        "ax[1].set_xlabel('Mini batches')\n",
        "ax[1].set_ylabel('Accuracy')\n",
        "\n",
        "plt.show()"
      ],
      "execution_count": 13,
      "outputs": [
        {
          "output_type": "display_data",
          "data": {
            "image/png": "[encoded data removed]",
            "text/plain": [
              "<Figure size 720x360 with 2 Axes>"
            ]
          },
          "metadata": {
            "tags": [],
            "needs_background": "light"
          }
        }
      ]
    },
    {
      "cell_type": "markdown",
      "metadata": {
        "id": "DIvpz4UKa8r4"
      },
      "source": [
        "### Medium CNN model"
      ]
    },
    {
      "cell_type": "code",
      "metadata": {
        "id": "GnpdshrAawS6"
      },
      "source": [
        "class CNN_Medium(nn.Module):\n",
        "    def __init__(self, in_channels: int, n_class: int):\n",
        "        super(CNN_Medium, self).__init__()\n",
        "        \n",
        "        self.in_channels = in_channels\n",
        "        self.n_class = n_class\n",
        "\n",
        "        self.model = nn.Sequential(\n",
        "            nn.Conv2d(self.in_channels, 64, 3, padding=1),\n",
        "            nn.ReLU(),\n",
        "            nn.MaxPool2d(2, 2),\n",
        "\n",
        "            nn.Conv2d(64, 64, 3, padding=1),\n",
        "            nn.ReLU(),\n",
        "            nn.Conv2d(64, 128, 3, padding=1),\n",
        "            nn.ReLU(),\n",
        "\n",
        "            nn.Conv2d(128, 128, 3, padding=1),\n",
        "            nn.ReLU(),\n",
        "            nn.MaxPool2d(2, 2),\n",
        "\n",
        "            nn.Conv2d(128, 128, 3, padding=1),\n",
        "            nn.ReLU(),\n",
        "\n",
        "            nn.AdaptiveAvgPool2d((7, 7)),\n",
        "            nn.Flatten(),\n",
        "            \n",
        "            nn.Linear(7*7*128, 512),\n",
        "            nn.ReLU(),\n",
        "            nn.Linear(512, self.n_class),\n",
        "        )\n",
        "\n",
        "        self.n_params = sum(\n",
        "            p.numel() for p in self.model.parameters() if p.requires_grad\n",
        "        )\n",
        "    \n",
        "    def forward(self, x):\n",
        "        logits = self.model(x)\n",
        "        return logits"
      ],
      "execution_count": 14,
      "outputs": []
    },
    {
      "cell_type": "code",
      "metadata": {
        "colab": {
          "base_uri": "https://localhost:8080/"
        },
        "id": "V_piGs1ubUuR",
        "outputId": "e32ed54f-e5f2-4f2b-93e4-9078d792c3a4"
      },
      "source": [
        "model = CNN_Medium(in_channels=3, n_class=10).to(DEVICE)\n",
        "print(\"Learnable parameters: {:,}\".format(model.n_params))"
      ],
      "execution_count": 16,
      "outputs": [
        {
          "output_type": "stream",
          "text": [
            "Learnable parameters: 3,624,650\n"
          ],
          "name": "stdout"
        }
      ]
    },
    {
      "cell_type": "code",
      "metadata": {
        "colab": {
          "base_uri": "https://localhost:8080/"
        },
        "id": "2O2OTyZJbY8E",
        "outputId": "b7826659-05d5-4c04-c70a-9037f9e71a0c"
      },
      "source": [
        "EPOCHS = 10\n",
        "\n",
        "loss_fn = nn.CrossEntropyLoss()\n",
        "optim = torch.optim.Adam(model.parameters(), lr=1e-3)\n",
        "\n",
        "train_loss, train_acc = [], []\n",
        "test_loss, test_acc = [], []\n",
        "for e in range(EPOCHS):\n",
        "    print(f\"Epoch {e + 1}\\n\" + '-' * 50)\n",
        "    loss, acc = train(train_dataloader, model, loss_fn, optim)\n",
        "    train_loss += loss; train_acc += acc\n",
        "\n",
        "    loss, acc = test(test_dataloader, model, loss_fn)\n",
        "    test_loss.append(loss); test_acc.append(acc)\n",
        "    \n",
        "print(\"Done!\")"
      ],
      "execution_count": 17,
      "outputs": [
        {
          "output_type": "stream",
          "text": [
            "Epoch 1\n",
            "--------------------------------------------------\n",
            "[    0/50000] Loss: 2.300145\tAccuracy: 12.5%\n",
            "[ 6400/50000] Loss: 2.039814\tAccuracy: 21.9%\n",
            "[12800/50000] Loss: 1.723528\tAccuracy: 35.9%\n",
            "[19200/50000] Loss: 1.625978\tAccuracy: 34.4%\n",
            "[25600/50000] Loss: 1.603845\tAccuracy: 43.8%\n",
            "[32000/50000] Loss: 1.741258\tAccuracy: 35.9%\n",
            "[38400/50000] Loss: 1.512795\tAccuracy: 43.8%\n",
            "[44800/50000] Loss: 1.173329\tAccuracy: 57.8%\n",
            "\n",
            "Test Accuracy: 51.7%\t Test Loss: 0.021076 \n",
            "\n",
            "Epoch 2\n",
            "--------------------------------------------------\n",
            "[    0/50000] Loss: 1.263698\tAccuracy: 54.7%\n",
            "[ 6400/50000] Loss: 1.246863\tAccuracy: 56.2%\n",
            "[12800/50000] Loss: 1.168566\tAccuracy: 56.2%\n",
            "[19200/50000] Loss: 1.246432\tAccuracy: 60.9%\n",
            "[25600/50000] Loss: 1.067604\tAccuracy: 65.6%\n",
            "[32000/50000] Loss: 0.977613\tAccuracy: 65.6%\n",
            "[38400/50000] Loss: 1.205344\tAccuracy: 62.5%\n",
            "[44800/50000] Loss: 0.949581\tAccuracy: 64.1%\n",
            "\n",
            "Test Accuracy: 61.1%\t Test Loss: 0.016863 \n",
            "\n",
            "Epoch 3\n",
            "--------------------------------------------------\n",
            "[    0/50000] Loss: 0.835310\tAccuracy: 62.5%\n",
            "[ 6400/50000] Loss: 0.999804\tAccuracy: 57.8%\n",
            "[12800/50000] Loss: 0.947172\tAccuracy: 60.9%\n",
            "[19200/50000] Loss: 0.886315\tAccuracy: 73.4%\n",
            "[25600/50000] Loss: 0.863702\tAccuracy: 71.9%\n",
            "[32000/50000] Loss: 1.120644\tAccuracy: 60.9%\n",
            "[38400/50000] Loss: 1.066120\tAccuracy: 59.4%\n",
            "[44800/50000] Loss: 1.136000\tAccuracy: 64.1%\n",
            "\n",
            "Test Accuracy: 66.9%\t Test Loss: 0.014724 \n",
            "\n",
            "Epoch 4\n",
            "--------------------------------------------------\n",
            "[    0/50000] Loss: 0.880957\tAccuracy: 62.5%\n",
            "[ 6400/50000] Loss: 0.882108\tAccuracy: 70.3%\n",
            "[12800/50000] Loss: 0.884020\tAccuracy: 68.8%\n",
            "[19200/50000] Loss: 0.818343\tAccuracy: 65.6%\n",
            "[25600/50000] Loss: 0.767688\tAccuracy: 78.1%\n",
            "[32000/50000] Loss: 1.071320\tAccuracy: 57.8%\n",
            "[38400/50000] Loss: 0.824671\tAccuracy: 73.4%\n",
            "[44800/50000] Loss: 1.014915\tAccuracy: 67.2%\n",
            "\n",
            "Test Accuracy: 69.9%\t Test Loss: 0.013453 \n",
            "\n",
            "Epoch 5\n",
            "--------------------------------------------------\n",
            "[    0/50000] Loss: 0.636724\tAccuracy: 73.4%\n",
            "[ 6400/50000] Loss: 0.586996\tAccuracy: 78.1%\n",
            "[12800/50000] Loss: 0.698716\tAccuracy: 75.0%\n",
            "[19200/50000] Loss: 0.771890\tAccuracy: 79.7%\n",
            "[25600/50000] Loss: 0.642306\tAccuracy: 73.4%\n",
            "[32000/50000] Loss: 0.766002\tAccuracy: 65.6%\n",
            "[38400/50000] Loss: 0.647229\tAccuracy: 75.0%\n",
            "[44800/50000] Loss: 0.892396\tAccuracy: 65.6%\n",
            "\n",
            "Test Accuracy: 71.8%\t Test Loss: 0.012611 \n",
            "\n",
            "Epoch 6\n",
            "--------------------------------------------------\n",
            "[    0/50000] Loss: 0.732771\tAccuracy: 70.3%\n",
            "[ 6400/50000] Loss: 0.680218\tAccuracy: 78.1%\n",
            "[12800/50000] Loss: 0.756361\tAccuracy: 67.2%\n",
            "[19200/50000] Loss: 0.689297\tAccuracy: 78.1%\n",
            "[25600/50000] Loss: 0.513489\tAccuracy: 78.1%\n",
            "[32000/50000] Loss: 0.510003\tAccuracy: 76.6%\n",
            "[38400/50000] Loss: 0.571084\tAccuracy: 81.2%\n",
            "[44800/50000] Loss: 0.668894\tAccuracy: 73.4%\n",
            "\n",
            "Test Accuracy: 73.2%\t Test Loss: 0.012304 \n",
            "\n",
            "Epoch 7\n",
            "--------------------------------------------------\n",
            "[    0/50000] Loss: 0.618696\tAccuracy: 78.1%\n",
            "[ 6400/50000] Loss: 0.533788\tAccuracy: 73.4%\n",
            "[12800/50000] Loss: 0.613020\tAccuracy: 78.1%\n",
            "[19200/50000] Loss: 0.431133\tAccuracy: 89.1%\n",
            "[25600/50000] Loss: 0.548426\tAccuracy: 76.6%\n",
            "[32000/50000] Loss: 0.536614\tAccuracy: 76.6%\n",
            "[38400/50000] Loss: 0.555100\tAccuracy: 81.2%\n",
            "[44800/50000] Loss: 0.499743\tAccuracy: 79.7%\n",
            "\n",
            "Test Accuracy: 72.8%\t Test Loss: 0.012769 \n",
            "\n",
            "Epoch 8\n",
            "--------------------------------------------------\n",
            "[    0/50000] Loss: 0.679134\tAccuracy: 78.1%\n",
            "[ 6400/50000] Loss: 0.313220\tAccuracy: 85.9%\n",
            "[12800/50000] Loss: 0.395097\tAccuracy: 87.5%\n",
            "[19200/50000] Loss: 0.412977\tAccuracy: 89.1%\n",
            "[25600/50000] Loss: 0.428768\tAccuracy: 85.9%\n",
            "[32000/50000] Loss: 0.435422\tAccuracy: 81.2%\n",
            "[38400/50000] Loss: 0.560318\tAccuracy: 75.0%\n",
            "[44800/50000] Loss: 0.405197\tAccuracy: 84.4%\n",
            "\n",
            "Test Accuracy: 72.6%\t Test Loss: 0.013511 \n",
            "\n",
            "Epoch 9\n",
            "--------------------------------------------------\n",
            "[    0/50000] Loss: 0.255517\tAccuracy: 96.9%\n",
            "[ 6400/50000] Loss: 0.418505\tAccuracy: 85.9%\n",
            "[12800/50000] Loss: 0.335193\tAccuracy: 85.9%\n",
            "[19200/50000] Loss: 0.337672\tAccuracy: 90.6%\n",
            "[25600/50000] Loss: 0.335177\tAccuracy: 87.5%\n",
            "[32000/50000] Loss: 0.358912\tAccuracy: 89.1%\n",
            "[38400/50000] Loss: 0.689334\tAccuracy: 73.4%\n",
            "[44800/50000] Loss: 0.406839\tAccuracy: 82.8%\n",
            "\n",
            "Test Accuracy: 72.7%\t Test Loss: 0.013495 \n",
            "\n",
            "Epoch 10\n",
            "--------------------------------------------------\n",
            "[    0/50000] Loss: 0.353099\tAccuracy: 90.6%\n",
            "[ 6400/50000] Loss: 0.507322\tAccuracy: 85.9%\n",
            "[12800/50000] Loss: 0.313040\tAccuracy: 87.5%\n",
            "[19200/50000] Loss: 0.346307\tAccuracy: 87.5%\n",
            "[25600/50000] Loss: 0.388458\tAccuracy: 89.1%\n",
            "[32000/50000] Loss: 0.403019\tAccuracy: 87.5%\n",
            "[38400/50000] Loss: 0.257769\tAccuracy: 89.1%\n",
            "[44800/50000] Loss: 0.204573\tAccuracy: 92.2%\n",
            "\n",
            "Test Accuracy: 73.1%\t Test Loss: 0.014744 \n",
            "\n",
            "Done!\n"
          ],
          "name": "stdout"
        }
      ]
    },
    {
      "cell_type": "code",
      "metadata": {
        "colab": {
          "base_uri": "https://localhost:8080/",
          "height": 350
        },
        "id": "rEVkMJH8bfsy",
        "outputId": "6b934bf5-31a4-49a3-f935-a8d9c34427d0"
      },
      "source": [
        "# Analyse the performance\n",
        "fig, ax = plt.subplots(nrows=1, ncols=2, sharex=True, figsize=(10, 5))\n",
        "\n",
        "ax[0].plot(range(len(train_loss)), train_loss)\n",
        "ax[0].set_title(\"Training Loss\")\n",
        "ax[0].set_xlabel('Mini batches')\n",
        "ax[0].set_ylabel('Categorical loss')\n",
        "\n",
        "ax[1].plot(range(len(train_acc)), train_acc)\n",
        "ax[1].set_title(\"Training Accuracy\")\n",
        "ax[1].set_xlabel('Mini batches')\n",
        "ax[1].set_ylabel('Accuracy')\n",
        "\n",
        "plt.show()"
      ],
      "execution_count": 18,
      "outputs": [
        {
          "output_type": "display_data",
          "data": {
            "image/png": "[encoded data removed]",
            "text/plain": [
              "<Figure size 720x360 with 2 Axes>"
            ]
          },
          "metadata": {
            "tags": [],
            "needs_background": "light"
          }
        }
      ]
    },
    {
      "cell_type": "code",
      "metadata": {
        "colab": {
          "base_uri": "https://localhost:8080/"
        },
        "id": "ePAzS9VNcvIe",
        "outputId": "4a676aee-7d5d-4754-d638-4a7e11089e6b"
      },
      "source": [
        "torch.save(model.state_dict(), '/drive/MyDrive/Package/cnn_medium_cifar10.pth')\n",
        "print(\"Model saved!!\")"
      ],
      "execution_count": 19,
      "outputs": [
        {
          "output_type": "stream",
          "text": [
            "Model saved!!\n"
          ],
          "name": "stdout"
        }
      ]
    }
  ]
}